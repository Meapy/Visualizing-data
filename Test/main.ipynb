{
 "cells": [
  {
   "cell_type": "code",
   "execution_count": 4,
   "metadata": {
    "vscode": {
     "languageId": "r"
    }
   },
   "outputs": [
    {
     "data": {
      "text/html": [
       "<table class=\"dataframe\">\n",
       "<caption>A data.frame: 6 × 11</caption>\n",
       "<thead>\n",
       "\t<tr><th></th><th scope=col>row.names</th><th scope=col>sbp</th><th scope=col>tobacco</th><th scope=col>ldl</th><th scope=col>adiposity</th><th scope=col>famhist</th><th scope=col>typea</th><th scope=col>obesity</th><th scope=col>alcohol</th><th scope=col>age</th><th scope=col>chd</th></tr>\n",
       "\t<tr><th></th><th scope=col>&lt;int&gt;</th><th scope=col>&lt;int&gt;</th><th scope=col>&lt;dbl&gt;</th><th scope=col>&lt;dbl&gt;</th><th scope=col>&lt;dbl&gt;</th><th scope=col>&lt;chr&gt;</th><th scope=col>&lt;int&gt;</th><th scope=col>&lt;dbl&gt;</th><th scope=col>&lt;dbl&gt;</th><th scope=col>&lt;int&gt;</th><th scope=col>&lt;int&gt;</th></tr>\n",
       "</thead>\n",
       "<tbody>\n",
       "\t<tr><th scope=row>1</th><td>1</td><td>160</td><td>12.00</td><td>5.73</td><td>23.11</td><td>Present</td><td>49</td><td>25.30</td><td>97.20</td><td>52</td><td>1</td></tr>\n",
       "\t<tr><th scope=row>2</th><td>2</td><td>144</td><td> 0.01</td><td>4.41</td><td>28.61</td><td>Absent </td><td>55</td><td>28.87</td><td> 2.06</td><td>63</td><td>1</td></tr>\n",
       "\t<tr><th scope=row>3</th><td>3</td><td>118</td><td> 0.08</td><td>3.48</td><td>32.28</td><td>Present</td><td>52</td><td>29.14</td><td> 3.81</td><td>46</td><td>0</td></tr>\n",
       "\t<tr><th scope=row>4</th><td>4</td><td>170</td><td> 7.50</td><td>6.41</td><td>38.03</td><td>Present</td><td>51</td><td>31.99</td><td>24.26</td><td>58</td><td>1</td></tr>\n",
       "\t<tr><th scope=row>5</th><td>5</td><td>134</td><td>13.60</td><td>3.50</td><td>27.78</td><td>Present</td><td>60</td><td>25.99</td><td>57.34</td><td>49</td><td>1</td></tr>\n",
       "\t<tr><th scope=row>6</th><td>6</td><td>132</td><td> 6.20</td><td>6.47</td><td>36.21</td><td>Present</td><td>62</td><td>30.77</td><td>14.14</td><td>45</td><td>0</td></tr>\n",
       "</tbody>\n",
       "</table>\n"
      ],
      "text/latex": [
       "A data.frame: 6 × 11\n",
       "\\begin{tabular}{r|lllllllllll}\n",
       "  & row.names & sbp & tobacco & ldl & adiposity & famhist & typea & obesity & alcohol & age & chd\\\\\n",
       "  & <int> & <int> & <dbl> & <dbl> & <dbl> & <chr> & <int> & <dbl> & <dbl> & <int> & <int>\\\\\n",
       "\\hline\n",
       "\t1 & 1 & 160 & 12.00 & 5.73 & 23.11 & Present & 49 & 25.30 & 97.20 & 52 & 1\\\\\n",
       "\t2 & 2 & 144 &  0.01 & 4.41 & 28.61 & Absent  & 55 & 28.87 &  2.06 & 63 & 1\\\\\n",
       "\t3 & 3 & 118 &  0.08 & 3.48 & 32.28 & Present & 52 & 29.14 &  3.81 & 46 & 0\\\\\n",
       "\t4 & 4 & 170 &  7.50 & 6.41 & 38.03 & Present & 51 & 31.99 & 24.26 & 58 & 1\\\\\n",
       "\t5 & 5 & 134 & 13.60 & 3.50 & 27.78 & Present & 60 & 25.99 & 57.34 & 49 & 1\\\\\n",
       "\t6 & 6 & 132 &  6.20 & 6.47 & 36.21 & Present & 62 & 30.77 & 14.14 & 45 & 0\\\\\n",
       "\\end{tabular}\n"
      ],
      "text/markdown": [
       "\n",
       "A data.frame: 6 × 11\n",
       "\n",
       "| <!--/--> | row.names &lt;int&gt; | sbp &lt;int&gt; | tobacco &lt;dbl&gt; | ldl &lt;dbl&gt; | adiposity &lt;dbl&gt; | famhist &lt;chr&gt; | typea &lt;int&gt; | obesity &lt;dbl&gt; | alcohol &lt;dbl&gt; | age &lt;int&gt; | chd &lt;int&gt; |\n",
       "|---|---|---|---|---|---|---|---|---|---|---|---|\n",
       "| 1 | 1 | 160 | 12.00 | 5.73 | 23.11 | Present | 49 | 25.30 | 97.20 | 52 | 1 |\n",
       "| 2 | 2 | 144 |  0.01 | 4.41 | 28.61 | Absent  | 55 | 28.87 |  2.06 | 63 | 1 |\n",
       "| 3 | 3 | 118 |  0.08 | 3.48 | 32.28 | Present | 52 | 29.14 |  3.81 | 46 | 0 |\n",
       "| 4 | 4 | 170 |  7.50 | 6.41 | 38.03 | Present | 51 | 31.99 | 24.26 | 58 | 1 |\n",
       "| 5 | 5 | 134 | 13.60 | 3.50 | 27.78 | Present | 60 | 25.99 | 57.34 | 49 | 1 |\n",
       "| 6 | 6 | 132 |  6.20 | 6.47 | 36.21 | Present | 62 | 30.77 | 14.14 | 45 | 0 |\n",
       "\n"
      ],
      "text/plain": [
       "  row.names sbp tobacco ldl  adiposity famhist typea obesity alcohol age chd\n",
       "1 1         160 12.00   5.73 23.11     Present 49    25.30   97.20   52  1  \n",
       "2 2         144  0.01   4.41 28.61     Absent  55    28.87    2.06   63  1  \n",
       "3 3         118  0.08   3.48 32.28     Present 52    29.14    3.81   46  0  \n",
       "4 4         170  7.50   6.41 38.03     Present 51    31.99   24.26   58  1  \n",
       "5 5         134 13.60   3.50 27.78     Present 60    25.99   57.34   49  1  \n",
       "6 6         132  6.20   6.47 36.21     Present 62    30.77   14.14   45  0  "
      ]
     },
     "metadata": {},
     "output_type": "display_data"
    }
   ],
   "source": [
    "#import data/SAheart.csv\n",
    "data <- read.csv(\"data/SAheart.csv\")\n",
    "\n",
    "head(data)"
   ]
  },
  {
   "cell_type": "code",
   "execution_count": 5,
   "metadata": {
    "vscode": {
     "languageId": "r"
    }
   },
   "outputs": [
    {
     "data": {
      "text/html": [
       "141.350282485876"
      ],
      "text/latex": [
       "141.350282485876"
      ],
      "text/markdown": [
       "141.350282485876"
      ],
      "text/plain": [
       "[1] 141.3503"
      ]
     },
     "metadata": {},
     "output_type": "display_data"
    }
   ],
   "source": [
    "#find average sbp for people older than 30\n",
    "sbp = data[data$age > 30, \"sbp\"]\n",
    "mean(sbp)"
   ]
  }
 ],
 "metadata": {
  "kernelspec": {
   "display_name": "R",
   "language": "R",
   "name": "ir"
  },
  "language_info": {
   "codemirror_mode": "r",
   "file_extension": ".r",
   "mimetype": "text/x-r-source",
   "name": "R",
   "pygments_lexer": "r",
   "version": "4.1.2"
  },
  "orig_nbformat": 4
 },
 "nbformat": 4,
 "nbformat_minor": 2
}
